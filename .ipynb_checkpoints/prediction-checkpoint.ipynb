{
 "cells": [
  {
   "cell_type": "markdown",
   "metadata": {},
   "source": [
    "# Home Price Prediction: DATA 273P Final Project\n",
    "### Data sourced from: https://www.kaggle.com/competitions/house-prices-advanced-regression-techniques/overview\n",
    "### Grace Newman, Kaitlyn Morenzone, Abigail Mori"
   ]
  },
  {
   "cell_type": "code",
   "execution_count": 1,
   "metadata": {},
   "outputs": [],
   "source": [
    "import pandas as pd\n",
    "import numpy as np\n",
    "from sklearn.model_selection import train_test_split\n",
    "import matplotlib.pyplot as plt\n",
    "import seaborn as sns"
   ]
  },
  {
   "cell_type": "markdown",
   "metadata": {},
   "source": [
    "## Data Ingestion and Preprocessing\n",
    "The 'test.csv' file has no predictor column, as Kaggle intends users to submit the predictions of their regression model on that test dataset blindly. Therefore, we will split the training dataset in order to measure accuracy within this notebook. We will submit the 'test.csv' predictions separately and report the results here."
   ]
  },
  {
   "cell_type": "code",
   "execution_count": 3,
   "metadata": {},
   "outputs": [],
   "source": [
    "## ingest data\n",
    "train_df = pd.read_csv('house-prices-advanced-regression-techniques/train.csv')\n",
    "test_df = pd.read_csv('house-prices-advanced-regression-techniques/test.csv')"
   ]
  },
  {
   "cell_type": "code",
   "execution_count": 4,
   "metadata": {},
   "outputs": [],
   "source": [
    "train_df.set_index('Id', inplace=True)\n",
    "test_df.set_index('Id', inplace=True)"
   ]
  },
  {
   "cell_type": "code",
   "execution_count": 5,
   "metadata": {},
   "outputs": [
    {
     "name": "stdout",
     "output_type": "stream",
     "text": [
      "(1460, 80)\n"
     ]
    }
   ],
   "source": [
    "print(train_df.shape)"
   ]
  },
  {
   "cell_type": "markdown",
   "metadata": {},
   "source": [
    "There is high dimensionality in this dataset, so we will drop some columns that we find least likely to be good predictors of home price."
   ]
  },
  {
   "cell_type": "code",
   "execution_count": 7,
   "metadata": {},
   "outputs": [],
   "source": [
    "# drop some non-predictive columns\n",
    "drop_cols = ['Street', 'Alley', 'LotShape', 'LandContour', 'LandSlope']\n",
    "train_df = train_df.drop(columns=drop_cols)\n",
    "test_df = test_df.drop(columns=drop_cols)"
   ]
  },
  {
   "cell_type": "markdown",
   "metadata": {},
   "source": [
    "Cateogorical columns are stored as 'Object' types. We need to encode these values to integers so that they can be used in regression."
   ]
  },
  {
   "cell_type": "code",
   "execution_count": 9,
   "metadata": {},
   "outputs": [],
   "source": [
    "# listing categorical columns\n",
    "categorical = []\n",
    "\n",
    "for col in train_df.columns:\n",
    "    if train_df[col].dtype == 'object':\n",
    "        categorical.append(col)\n",
    "\n",
    "# using pd.get_dummies to encode \n",
    "train_data = pd.get_dummies(train_df, columns=categorical, drop_first=True)\n",
    "test_data = pd.get_dummies(test_df, columns=categorical, drop_first=True)"
   ]
  },
  {
   "cell_type": "markdown",
   "metadata": {},
   "source": [
    "We will drop columns that have null values present. In this case, our data has no null values!"
   ]
  },
  {
   "cell_type": "code",
   "execution_count": 11,
   "metadata": {},
   "outputs": [],
   "source": [
    "# check null proportion of each column\n",
    "null_percentages = train_data.isnull().sum() / len(train_data) * 100\n",
    "drops = null_percentages[null_percentages > 0]\n",
    "drop_cols = drops.index\n",
    "\n",
    "# drop columns with nulls\n",
    "train_data = train_data.drop(columns=drop_cols)\n",
    "test_data = test_data.drop(columns=drop_cols)"
   ]
  },
  {
   "cell_type": "markdown",
   "metadata": {},
   "source": [
    "Here, we will split the training data into training and testing sets. We will preserve the 'test.csv' data separately."
   ]
  },
  {
   "cell_type": "code",
   "execution_count": 13,
   "metadata": {},
   "outputs": [],
   "source": [
    "# splitting data into 80-20 train-test split\n",
    "train, test = train_test_split(train_data, test_size=0.2)\n",
    "\n",
    "X_train = train.loc[:, train.columns != 'SalePrice']\n",
    "y_train = train['SalePrice']\n",
    "\n",
    "X_test = test.loc[:, test.columns != 'SalePrice']\n",
    "y_test = test['SalePrice']\n",
    "\n",
    "# preserving test.csv data under a different name\n",
    "X_test_kaggle = test_data.loc[:, test_data.columns != 'SalePrice']"
   ]
  },
  {
   "cell_type": "markdown",
   "metadata": {},
   "source": [
    "Let's look at the distribution of our target variable, Sale Price, to determine which models we might try first."
   ]
  },
  {
   "cell_type": "code",
   "execution_count": 15,
   "metadata": {},
   "outputs": [
    {
     "name": "stderr",
     "output_type": "stream",
     "text": [
      "/Users/gracenewman/opt/anaconda3/lib/python3.9/site-packages/seaborn/distributions.py:2619: FutureWarning: `distplot` is a deprecated function and will be removed in a future version. Please adapt your code to use either `displot` (a figure-level function with similar flexibility) or `histplot` (an axes-level function for histograms).\n",
      "  warnings.warn(msg, FutureWarning)\n"
     ]
    },
    {
     "data": {
      "text/plain": [
       "<AxesSubplot:xlabel='SalePrice', ylabel='Density'>"
      ]
     },
     "execution_count": 15,
     "metadata": {},
     "output_type": "execute_result"
    },
    {
     "data": {
      "image/png": "[encoded data removed]",
      "text/plain": [
       "<Figure size 648x576 with 1 Axes>"
      ]
     },
     "metadata": {
      "needs_background": "light"
     },
     "output_type": "display_data"
    }
   ],
   "source": [
    "plt.figure(figsize=(9, 8))\n",
    "sns.distplot(train_data['SalePrice'], color='g', bins=100, hist_kws={'alpha': 0.4})"
   ]
  },
  {
   "cell_type": "markdown",
   "metadata": {},
   "source": [
    "Given the nonlinear distribution of the target variable, Sale Price, we might try a non-parametric model first."
   ]
  },
  {
   "cell_type": "markdown",
   "metadata": {},
   "source": [
    "## Random Forest Model"
   ]
  },
  {
   "cell_type": "code",
   "execution_count": 18,
   "metadata": {},
   "outputs": [],
   "source": [
    "from sklearn.ensemble import RandomForestRegressor\n",
    "from sklearn.model_selection import cross_val_score, RandomizedSearchCV\n",
    "\n",
    "def get_best_params(X, y):\n",
    "    random_grid = {'max_depth': [10, 20, 30, 40, 50, 60, 70, 80, 90, 100, 110, None],\n",
    "               'max_features': ['auto', 'sqrt'],\n",
    "               'min_samples_leaf': [1, 2, 4],\n",
    "               'min_samples_split': [2, 5, 10],\n",
    "               'n_estimators': [130, 180, 230]}\n",
    "\n",
    "    rf_model = RandomForestRegressor()\n",
    "    rf_cv = RandomizedSearchCV(estimator = rf_model, param_distributions = random_grid, scoring='neg_root_mean_squared_error')\n",
    "    rf_cv.fit(X, y)\n",
    "    print(rf_cv.best_params_)\n",
    "    return rf_cv.best_params_"
   ]
  },
  {
   "cell_type": "code",
   "execution_count": 19,
   "metadata": {},
   "outputs": [
    {
     "name": "stdout",
     "output_type": "stream",
     "text": [
      "{'n_estimators': 230, 'min_samples_split': 2, 'min_samples_leaf': 2, 'max_features': 'auto', 'max_depth': 80}\n",
      "Out-of-Bag Score: 0.8551542843167625\n",
      "Mean CV accuracy: 0.86, SD: 0.05\n"
     ]
    }
   ],
   "source": [
    "# getting best fit parameters\n",
    "best_params = get_best_params(X_train, y_train)\n",
    "\n",
    "# initializing model and setting parameters to best found\n",
    "rf_model = RandomForestRegressor(criterion = 'squared_error', bootstrap=True, oob_score=True)\n",
    "rf_model = rf_model.set_params(**best_params)\n",
    "\n",
    "# fitting model\n",
    "rf_model.fit(X_train, y_train)\n",
    "\n",
    "# getting OOB accuracy score\n",
    "oob_score = rf_model.oob_score_\n",
    "print(f'Out-of-Bag Score: {oob_score}')\n",
    "\n",
    "# getting cross-validated accuracy score\n",
    "cv_scores = cross_val_score(rf_model, X_train, y_train, cv=5)\n",
    "print(\"Mean CV accuracy: %0.2f, SD: %0.2f\" % (cv_scores.mean(), cv_scores.std()))"
   ]
  },
  {
   "cell_type": "markdown",
   "metadata": {},
   "source": [
    "Due to the high dimensionality of the dataset, let's try a reduced model. We'll do this by dropping the features with the lowest importance in the model. We will drop features with an importance < 0.005, which is approximately the median importance level."
   ]
  },
  {
   "cell_type": "code",
   "execution_count": 21,
   "metadata": {},
   "outputs": [
    {
     "name": "stdout",
     "output_type": "stream",
     "text": [
      "Features in full model: 232\n",
      "Features in reduced model: 15\n"
     ]
    },
    {
     "data": {
      "text/plain": [
       "<AxesSubplot:>"
      ]
     },
     "execution_count": 21,
     "metadata": {},
     "output_type": "execute_result"
    },
    {
     "data": {
      "image/png": "[encoded data removed]",
      "text/plain": [
       "<Figure size 432x288 with 1 Axes>"
      ]
     },
     "metadata": {
      "needs_background": "light"
     },
     "output_type": "display_data"
    }
   ],
   "source": [
    "# getting feature importances\n",
    "feats = {}\n",
    "for feature, importance in zip(X_train.columns, rf_model.feature_importances_):\n",
    "    feats[feature] = importance\n",
    "\n",
    "importances = pd.DataFrame.from_dict(feats, orient='index').rename(columns={0: 'importance'})\n",
    "print(f\"Features in full model: {len(importances)}\")\n",
    "\n",
    "# filtering features with importance = 0\n",
    "importances = importances[importances['importance'] >= 0.005]\n",
    "print(f\"Features in reduced model: {len(importances)}\")\n",
    "\n",
    "keep_features = importances.index.to_list()\n",
    "\n",
    "# reducing training data\n",
    "X_train_reduced = X_train[keep_features]\n",
    "X_test_reduced = X_test[keep_features]\n",
    "\n",
    "# plotting feature importances\n",
    "importances.sort_values(by='importance').plot(kind='bar', rot=45)"
   ]
  },
  {
   "cell_type": "markdown",
   "metadata": {},
   "source": [
    "Let's train the reduced model using the same method as we did with the full model."
   ]
  },
  {
   "cell_type": "code",
   "execution_count": 23,
   "metadata": {},
   "outputs": [
    {
     "name": "stdout",
     "output_type": "stream",
     "text": [
      "{'n_estimators': 130, 'min_samples_split': 2, 'min_samples_leaf': 1, 'max_features': 'auto', 'max_depth': 30}\n",
      "Reduced Out-of-Bag Score: 0.8592091433211118\n",
      "Reduced Mean CV accuracy: 0.85, SD: 0.07\n"
     ]
    }
   ],
   "source": [
    "# getting best fit parameters\n",
    "best_params = get_best_params(X_train, y_train)\n",
    "\n",
    "# initializing reduced model and setting parameters to best found\n",
    "rf_model_reduced = RandomForestRegressor(criterion = 'squared_error', bootstrap=True, oob_score=True)\n",
    "rf_model_reduced = rf_model_reduced.set_params(**best_params)\n",
    "\n",
    "# fitting reduced model\n",
    "rf_model_reduced.fit(X_train, y_train)\n",
    "\n",
    "# getting OOB accuracy score\n",
    "oob_score = rf_model_reduced.oob_score_\n",
    "print(f'Reduced Out-of-Bag Score: {oob_score}')\n",
    "\n",
    "# getting cross-validated accuracy score\n",
    "cv_scores = cross_val_score(rf_model_reduced, X_train_reduced, y_train, cv=5)\n",
    "print(\"Reduced Mean CV accuracy: %0.2f, SD: %0.2f\" % (cv_scores.mean(), cv_scores.std()))"
   ]
  },
  {
   "cell_type": "markdown",
   "metadata": {},
   "source": [
    "On average, we get a 1% increase in accuracy on the training set. Let's evaluate the test set."
   ]
  },
  {
   "cell_type": "code",
   "execution_count": 25,
   "metadata": {},
   "outputs": [
    {
     "name": "stdout",
     "output_type": "stream",
     "text": [
      "Full Out-of-Bag Score: 0.8254757226939154\n",
      "Full Mean CV accuracy: 0.85, SD: 0.06\n",
      "Reduced Out-of-Bag Score: 0.8279050809013805\n",
      "Reduced Mean CV accuracy: 0.85, SD: 0.07\n"
     ]
    }
   ],
   "source": [
    "rf_model.fit(X_test, y_test)\n",
    "rf_model_reduced.fit(X_test_reduced, y_test)\n",
    "\n",
    "# full model scoring\n",
    "oob_score = rf_model.oob_score_\n",
    "print(f'Full Out-of-Bag Score: {oob_score}')\n",
    "\n",
    "cv_scores = cross_val_score(rf_model, X_train, y_train, cv=5)\n",
    "print(\"Full Mean CV accuracy: %0.2f, SD: %0.2f\" % (cv_scores.mean(), cv_scores.std()))\n",
    "\n",
    "# reduced model scoring\n",
    "oob_score = rf_model_reduced.oob_score_\n",
    "print(f'Reduced Out-of-Bag Score: {oob_score}')\n",
    "\n",
    "cv_scores = cross_val_score(rf_model_reduced, X_train_reduced, y_train, cv=5)\n",
    "print(\"Reduced Mean CV accuracy: %0.2f, SD: %0.2f\" % (cv_scores.mean(), cv_scores.std()))"
   ]
  },
  {
   "cell_type": "markdown",
   "metadata": {},
   "source": [
    "We do see a marginal increase in the accuracy of the reduced model. Due to its significanty lower dimensionality, the reduced model is preferred over the full."
   ]
  },
  {
   "cell_type": "markdown",
   "metadata": {},
   "source": [
    "## XGBoost Model"
   ]
  },
  {
   "cell_type": "code",
   "execution_count": 89,
   "metadata": {},
   "outputs": [],
   "source": [
    "from sklearn.metrics import accuracy_score\n",
    "import xgboost as xgb\n",
    "from sklearn.model_selection import StratifiedKFold"
   ]
  },
  {
   "cell_type": "code",
   "execution_count": 91,
   "metadata": {},
   "outputs": [],
   "source": [
    "# re-loading train/test data\n",
    "# splitting data into 80-20 train-test split\n",
    "train, test = train_test_split(train_data, test_size=0.2)\n",
    "\n",
    "X_train = train.loc[:, train.columns != 'SalePrice']\n",
    "y_train = train['SalePrice']\n",
    "\n",
    "X_test = test.loc[:, test.columns != 'SalePrice']\n",
    "y_test = test['SalePrice']\n",
    "\n",
    "# preserving test.csv data under a different name\n",
    "X_test_kaggle = test_data.loc[:, test_data.columns != 'SalePrice']"
   ]
  },
  {
   "cell_type": "code",
   "execution_count": 93,
   "metadata": {},
   "outputs": [
    {
     "name": "stdout",
     "output_type": "stream",
     "text": [
      "[0]\tvalidation_0-rmse:51165.70097\n",
      "[1]\tvalidation_0-rmse:40742.00604\n",
      "[2]\tvalidation_0-rmse:33678.69055\n",
      "[3]\tvalidation_0-rmse:28596.41689\n",
      "[4]\tvalidation_0-rmse:26276.73920\n",
      "[5]\tvalidation_0-rmse:25036.82523\n",
      "[6]\tvalidation_0-rmse:24029.91917\n",
      "[7]\tvalidation_0-rmse:23659.88317\n",
      "[8]\tvalidation_0-rmse:23763.09862\n",
      "[9]\tvalidation_0-rmse:23429.92321\n",
      "[10]\tvalidation_0-rmse:23855.18493\n",
      "[11]\tvalidation_0-rmse:23766.84378\n",
      "[12]\tvalidation_0-rmse:23987.80298\n",
      "[13]\tvalidation_0-rmse:23799.05740\n",
      "[14]\tvalidation_0-rmse:23913.22200\n",
      "[15]\tvalidation_0-rmse:23985.56118\n",
      "[16]\tvalidation_0-rmse:23959.00287\n",
      "[17]\tvalidation_0-rmse:23872.48128\n",
      "[18]\tvalidation_0-rmse:23895.22364\n",
      "[19]\tvalidation_0-rmse:23737.98990\n",
      "[20]\tvalidation_0-rmse:23650.96986\n",
      "[21]\tvalidation_0-rmse:23757.37166\n",
      "[22]\tvalidation_0-rmse:23784.84732\n",
      "[23]\tvalidation_0-rmse:23758.78234\n",
      "[24]\tvalidation_0-rmse:23784.70427\n",
      "[25]\tvalidation_0-rmse:23827.07145\n",
      "[26]\tvalidation_0-rmse:23845.49821\n",
      "[27]\tvalidation_0-rmse:23807.76221\n",
      "[28]\tvalidation_0-rmse:23789.12128\n",
      "[29]\tvalidation_0-rmse:23752.04240\n",
      "[30]\tvalidation_0-rmse:23786.15010\n",
      "[31]\tvalidation_0-rmse:23762.45532\n",
      "[32]\tvalidation_0-rmse:23758.18018\n",
      "[33]\tvalidation_0-rmse:23784.62262\n",
      "[34]\tvalidation_0-rmse:23805.95326\n",
      "[35]\tvalidation_0-rmse:23766.68110\n",
      "[36]\tvalidation_0-rmse:23817.75787\n",
      "[37]\tvalidation_0-rmse:23840.95023\n",
      "[38]\tvalidation_0-rmse:23845.65034\n",
      "[39]\tvalidation_0-rmse:23857.57625\n",
      "[40]\tvalidation_0-rmse:23859.69094\n",
      "[41]\tvalidation_0-rmse:23895.02960\n",
      "[42]\tvalidation_0-rmse:23868.00365\n",
      "[43]\tvalidation_0-rmse:23864.61245\n",
      "[44]\tvalidation_0-rmse:23873.56735\n",
      "[45]\tvalidation_0-rmse:23901.91249\n",
      "[46]\tvalidation_0-rmse:23901.11309\n",
      "[47]\tvalidation_0-rmse:23894.47073\n",
      "[48]\tvalidation_0-rmse:23908.66785\n",
      "[49]\tvalidation_0-rmse:23883.17497\n",
      "[50]\tvalidation_0-rmse:23893.09207\n",
      "[51]\tvalidation_0-rmse:23913.24726\n",
      "[52]\tvalidation_0-rmse:23928.37345\n",
      "[53]\tvalidation_0-rmse:23915.62425\n",
      "[54]\tvalidation_0-rmse:23911.10472\n",
      "[55]\tvalidation_0-rmse:23922.00745\n",
      "[56]\tvalidation_0-rmse:23933.06145\n",
      "[57]\tvalidation_0-rmse:23933.39329\n",
      "[58]\tvalidation_0-rmse:23940.74371\n",
      "[59]\tvalidation_0-rmse:23944.24283\n",
      "[60]\tvalidation_0-rmse:23946.98913\n",
      "[61]\tvalidation_0-rmse:23962.87817\n",
      "[62]\tvalidation_0-rmse:23959.93681\n",
      "[63]\tvalidation_0-rmse:23955.78781\n",
      "[64]\tvalidation_0-rmse:23938.32002\n",
      "[65]\tvalidation_0-rmse:23934.47880\n",
      "[66]\tvalidation_0-rmse:23927.21910\n",
      "[67]\tvalidation_0-rmse:23924.68208\n",
      "[68]\tvalidation_0-rmse:23929.51934\n",
      "[69]\tvalidation_0-rmse:23919.92858\n",
      "[70]\tvalidation_0-rmse:23920.36700\n",
      "[71]\tvalidation_0-rmse:23949.26042\n",
      "[72]\tvalidation_0-rmse:23951.48005\n",
      "[73]\tvalidation_0-rmse:23931.49001\n",
      "[74]\tvalidation_0-rmse:23940.61322\n",
      "[75]\tvalidation_0-rmse:23935.64529\n",
      "[76]\tvalidation_0-rmse:23951.32127\n",
      "[77]\tvalidation_0-rmse:23932.06562\n",
      "[78]\tvalidation_0-rmse:23937.76774\n",
      "[79]\tvalidation_0-rmse:23931.59647\n",
      "[80]\tvalidation_0-rmse:23933.00201\n",
      "[81]\tvalidation_0-rmse:23943.34239\n",
      "[82]\tvalidation_0-rmse:23938.01048\n",
      "[83]\tvalidation_0-rmse:23926.91620\n",
      "[84]\tvalidation_0-rmse:23921.38563\n",
      "[85]\tvalidation_0-rmse:23926.22347\n",
      "[86]\tvalidation_0-rmse:23919.90878\n",
      "[87]\tvalidation_0-rmse:23924.52334\n",
      "[88]\tvalidation_0-rmse:23923.95715\n",
      "[89]\tvalidation_0-rmse:23923.68511\n",
      "[90]\tvalidation_0-rmse:23920.44397\n",
      "[91]\tvalidation_0-rmse:23920.97172\n",
      "[92]\tvalidation_0-rmse:23914.76732\n",
      "[93]\tvalidation_0-rmse:23916.17923\n",
      "[94]\tvalidation_0-rmse:23921.97055\n",
      "[95]\tvalidation_0-rmse:23919.85947\n",
      "[96]\tvalidation_0-rmse:23918.03398\n",
      "[97]\tvalidation_0-rmse:23929.08175\n",
      "[98]\tvalidation_0-rmse:23930.33459\n",
      "[99]\tvalidation_0-rmse:23938.78976\n"
     ]
    }
   ],
   "source": [
    "# Fit the estimator on the train set and score it on both sets\n",
    "def fit_and_score(estimator, X_train, X_test, y_train, y_test):\n",
    "    estimator.fit(X_train, y_train, eval_set=[(X_test, y_test)])\n",
    "\n",
    "    train_score = estimator.score(X_train, y_train)\n",
    "    test_score = estimator.score(X_test, y_test)\n",
    "\n",
    "    return estimator, train_score, test_score\n",
    "\n",
    "clf = xgb.XGBRegressor(objective='reg:squarederror')\n",
    "\n",
    "results = {}\n",
    "\n",
    "est, train_score, test_score = fit_and_score(\n",
    "    clf, X_train, X_test, y_train, y_test\n",
    ")\n",
    "results[est] = (train_score, test_score)"
   ]
  },
  {
   "cell_type": "markdown",
   "metadata": {},
   "source": [
    "The full XGBoost model performs similarly to the random forest models, but is more prone to overfitting. Let's try a reduced XGBoost model to compare, using the same reduced parameters from earlier."
   ]
  },
  {
   "cell_type": "code",
   "execution_count": 95,
   "metadata": {},
   "outputs": [
    {
     "name": "stdout",
     "output_type": "stream",
     "text": [
      "[0]\tvalidation_0-rmse:69117.57565\n",
      "[1]\tvalidation_0-rmse:71055.40861\n",
      "[2]\tvalidation_0-rmse:70930.27619\n",
      "[3]\tvalidation_0-rmse:72296.21645\n",
      "[4]\tvalidation_0-rmse:73035.94695\n",
      "[5]\tvalidation_0-rmse:74035.03317\n",
      "[6]\tvalidation_0-rmse:73839.80026\n",
      "[7]\tvalidation_0-rmse:73833.08077\n",
      "[8]\tvalidation_0-rmse:73883.61327\n",
      "[9]\tvalidation_0-rmse:74522.74347\n",
      "[10]\tvalidation_0-rmse:74935.42746\n",
      "[11]\tvalidation_0-rmse:75630.15364\n",
      "[12]\tvalidation_0-rmse:75729.96979\n",
      "[13]\tvalidation_0-rmse:75738.27481\n",
      "[14]\tvalidation_0-rmse:76241.07427\n",
      "[15]\tvalidation_0-rmse:76819.85651\n",
      "[16]\tvalidation_0-rmse:77136.13543\n",
      "[17]\tvalidation_0-rmse:77690.68390\n",
      "[18]\tvalidation_0-rmse:77751.59266\n",
      "[19]\tvalidation_0-rmse:77825.34875\n",
      "[20]\tvalidation_0-rmse:78339.98405\n",
      "[21]\tvalidation_0-rmse:78508.51364\n",
      "[22]\tvalidation_0-rmse:79284.43991\n",
      "[23]\tvalidation_0-rmse:79458.13710\n",
      "[24]\tvalidation_0-rmse:79782.29758\n",
      "[25]\tvalidation_0-rmse:79895.47251\n",
      "[26]\tvalidation_0-rmse:79943.91598\n",
      "[27]\tvalidation_0-rmse:80328.06688\n",
      "[28]\tvalidation_0-rmse:80392.81349\n",
      "[29]\tvalidation_0-rmse:80557.13806\n",
      "[30]\tvalidation_0-rmse:80644.00641\n",
      "[31]\tvalidation_0-rmse:80810.62219\n",
      "[32]\tvalidation_0-rmse:81189.94874\n",
      "[33]\tvalidation_0-rmse:81332.86078\n",
      "[34]\tvalidation_0-rmse:81309.12616\n",
      "[35]\tvalidation_0-rmse:81572.85768\n",
      "[36]\tvalidation_0-rmse:81771.20705\n",
      "[37]\tvalidation_0-rmse:82150.67068\n",
      "[38]\tvalidation_0-rmse:82249.23592\n",
      "[39]\tvalidation_0-rmse:82667.58317\n",
      "[40]\tvalidation_0-rmse:82856.55578\n",
      "[41]\tvalidation_0-rmse:82895.35596\n",
      "[42]\tvalidation_0-rmse:82983.54993\n",
      "[43]\tvalidation_0-rmse:83288.32901\n",
      "[44]\tvalidation_0-rmse:83489.25073\n",
      "[45]\tvalidation_0-rmse:83519.25735\n",
      "[46]\tvalidation_0-rmse:83537.16002\n",
      "[47]\tvalidation_0-rmse:83758.20266\n",
      "[48]\tvalidation_0-rmse:83854.51070\n",
      "[49]\tvalidation_0-rmse:83798.33024\n",
      "[50]\tvalidation_0-rmse:84089.61664\n",
      "[51]\tvalidation_0-rmse:84055.53730\n",
      "[52]\tvalidation_0-rmse:84070.66126\n",
      "[53]\tvalidation_0-rmse:84055.75434\n",
      "[54]\tvalidation_0-rmse:83847.85883\n",
      "[55]\tvalidation_0-rmse:83925.97855\n",
      "[56]\tvalidation_0-rmse:84076.05803\n",
      "[57]\tvalidation_0-rmse:84071.29804\n",
      "[58]\tvalidation_0-rmse:84144.51552\n",
      "[59]\tvalidation_0-rmse:84137.20626\n",
      "[60]\tvalidation_0-rmse:84106.17696\n",
      "[61]\tvalidation_0-rmse:84149.27447\n",
      "[62]\tvalidation_0-rmse:83998.83921\n",
      "[63]\tvalidation_0-rmse:84151.61548\n",
      "[64]\tvalidation_0-rmse:84186.12023\n",
      "[65]\tvalidation_0-rmse:84252.64015\n",
      "[66]\tvalidation_0-rmse:84254.12810\n",
      "[67]\tvalidation_0-rmse:84399.21513\n",
      "[68]\tvalidation_0-rmse:84477.96180\n",
      "[69]\tvalidation_0-rmse:84513.82146\n",
      "[70]\tvalidation_0-rmse:84520.64791\n",
      "[71]\tvalidation_0-rmse:84508.90211\n",
      "[72]\tvalidation_0-rmse:84577.93603\n",
      "[73]\tvalidation_0-rmse:84597.63544\n",
      "[74]\tvalidation_0-rmse:84603.37277\n",
      "[75]\tvalidation_0-rmse:84583.90809\n",
      "[76]\tvalidation_0-rmse:84613.69500\n",
      "[77]\tvalidation_0-rmse:84603.83446\n",
      "[78]\tvalidation_0-rmse:84606.55169\n",
      "[79]\tvalidation_0-rmse:84614.74164\n",
      "[80]\tvalidation_0-rmse:84577.85508\n",
      "[81]\tvalidation_0-rmse:84539.18089\n",
      "[82]\tvalidation_0-rmse:84562.68674\n",
      "[83]\tvalidation_0-rmse:84495.52947\n",
      "[84]\tvalidation_0-rmse:84550.13469\n",
      "[85]\tvalidation_0-rmse:84597.52514\n",
      "[86]\tvalidation_0-rmse:84646.50416\n",
      "[87]\tvalidation_0-rmse:84704.88408\n",
      "[88]\tvalidation_0-rmse:84753.71451\n",
      "[89]\tvalidation_0-rmse:84775.91472\n",
      "[90]\tvalidation_0-rmse:84772.59056\n",
      "[91]\tvalidation_0-rmse:84809.41387\n",
      "[92]\tvalidation_0-rmse:84813.30340\n",
      "[93]\tvalidation_0-rmse:84864.86231\n",
      "[94]\tvalidation_0-rmse:84850.46538\n",
      "[95]\tvalidation_0-rmse:84882.45295\n",
      "[96]\tvalidation_0-rmse:84888.70305\n",
      "[97]\tvalidation_0-rmse:84899.81043\n",
      "[98]\tvalidation_0-rmse:84906.00772\n",
      "[99]\tvalidation_0-rmse:84920.24811\n"
     ]
    }
   ],
   "source": [
    "clf_reduced = xgb.XGBRegressor(objective='reg:squarederror')\n",
    "\n",
    "results = {}\n",
    "\n",
    "est, train_score_reduced, test_score_reduced = fit_and_score(\n",
    "    clf_reduced, X_train_reduced, X_test_reduced, y_train, y_test\n",
    ")\n",
    "results[est] = (train_score_reduced, test_score_reduced)"
   ]
  },
  {
   "cell_type": "code",
   "execution_count": 101,
   "metadata": {},
   "outputs": [
    {
     "name": "stdout",
     "output_type": "stream",
     "text": [
      "Full XGBoost train score: 0.9997699006172349\n",
      "Full XGBoost test score: 0.8769985913729669\n",
      "Full XGBoost Mean CV accuracy: 0.84, SD: 0.08\n",
      "\n",
      "Reduced XGBoost train score: 0.9922277051523692\n",
      "Reduced XGBoost test score: -0.5478476325059869\n",
      "Reduced XGBoost Mean CV accuracy: -0.32, SD: 0.09\n"
     ]
    }
   ],
   "source": [
    "# full model evaluation\n",
    "print(f\"Full XGBoost train score: {train_score}\")\n",
    "print(f\"Full XGBoost test score: {test_score}\")\n",
    "\n",
    "cv_scores = cross_val_score(clf, X_train, y_train, cv=5)\n",
    "print(\"Full XGBoost Mean CV accuracy: %0.2f, SD: %0.2f\\n\" % (cv_scores.mean(), cv_scores.std()))\n",
    "\n",
    "# reduced model evaluation\n",
    "print(f\"Reduced XGBoost train score: {train_score_reduced}\")\n",
    "print(f\"Reduced XGBoost test score: {test_score_reduced}\")\n",
    "\n",
    "cv_scores_reduced = cross_val_score(clf_reduced, X_train_reduced, y_train, cv=5)\n",
    "print(\"Reduced XGBoost Mean CV accuracy: %0.2f, SD: %0.2f\" % (cv_scores_reduced.mean(), cv_scores_reduced.std()))"
   ]
  },
  {
   "cell_type": "code",
   "execution_count": null,
   "metadata": {},
   "outputs": [],
   "source": []
  }
 ],
 "metadata": {
  "kernelspec": {
   "display_name": "Python [conda env:base] *",
   "language": "python",
   "name": "conda-base-py"
  },
  "language_info": {
   "codemirror_mode": {
    "name": "ipython",
    "version": 3
   },
   "file_extension": ".py",
   "mimetype": "text/x-python",
   "name": "python",
   "nbconvert_exporter": "python",
   "pygments_lexer": "ipython3",
   "version": "3.9.21"
  }
 },
 "nbformat": 4,
 "nbformat_minor": 4
}
