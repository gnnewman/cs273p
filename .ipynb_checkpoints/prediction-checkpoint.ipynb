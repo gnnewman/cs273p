{
 "cells": [
  {
   "cell_type": "markdown",
   "metadata": {},
   "source": [
    "# Home Price Prediction: DATA 273P Final Project\n",
    "### Data sourced from: https://www.kaggle.com/competitions/house-prices-advanced-regression-techniques/overview\n",
    "### Grace Newman, Kaitlyn Morenzone, Abigail Mori"
   ]
  },
  {
   "cell_type": "code",
   "execution_count": 1,
   "metadata": {},
   "outputs": [],
   "source": [
    "import pandas as pd\n",
    "import numpy as np\n",
    "from sklearn.model_selection import train_test_split\n",
    "import matplotlib.pyplot as plt\n",
    "import seaborn as sns"
   ]
  },
  {
   "cell_type": "markdown",
   "metadata": {},
   "source": [
    "## Data Ingestion and Preprocessing\n",
    "The 'test.csv' file has no predictor column, as Kaggle intends users to submit the predictions of their regression model on that test dataset blindly. Therefore, we will split the training dataset in order to measure accuracy within this notebook. We will submit the 'test.csv' predictions separately and report the results here."
   ]
  },
  {
   "cell_type": "code",
   "execution_count": 3,
   "metadata": {},
   "outputs": [],
   "source": [
    "## ingest data\n",
    "train_df = pd.read_csv('house-prices-advanced-regression-techniques/train.csv')\n",
    "test_df = pd.read_csv('house-prices-advanced-regression-techniques/test.csv')"
   ]
  },
  {
   "cell_type": "code",
   "execution_count": 4,
   "metadata": {},
   "outputs": [],
   "source": [
    "train_df.set_index('Id', inplace=True)\n",
    "test_df.set_index('Id', inplace=True)"
   ]
  },
  {
   "cell_type": "code",
   "execution_count": 5,
   "metadata": {},
   "outputs": [
    {
     "name": "stdout",
     "output_type": "stream",
     "text": [
      "(1460, 80)\n"
     ]
    }
   ],
   "source": [
    "print(train_df.shape)"
   ]
  },
  {
   "cell_type": "markdown",
   "metadata": {},
   "source": [
    "There is high dimensionality in this dataset, so we will drop some columns that we find least likely to be good predictors of home price."
   ]
  },
  {
   "cell_type": "code",
   "execution_count": 7,
   "metadata": {},
   "outputs": [],
   "source": [
    "# drop some non-predictive columns\n",
    "drop_cols = ['Street', 'Alley', 'LotShape', 'LandContour', 'LandSlope']\n",
    "train_df = train_df.drop(columns=drop_cols)\n",
    "test_df = test_df.drop(columns=drop_cols)"
   ]
  },
  {
   "cell_type": "markdown",
   "metadata": {},
   "source": [
    "Cateogorical columns are stored as 'Object' types. We need to encode these values to integers so that they can be used in regression."
   ]
  },
  {
   "cell_type": "code",
   "execution_count": 9,
   "metadata": {},
   "outputs": [],
   "source": [
    "# listing categorical columns\n",
    "categorical = []\n",
    "\n",
    "for col in train_df.columns:\n",
    "    if train_df[col].dtype == 'object':\n",
    "        categorical.append(col)\n",
    "\n",
    "# using pd.get_dummies to encode \n",
    "train_data = pd.get_dummies(train_df, columns=categorical, drop_first=True)\n",
    "test_data = pd.get_dummies(test_df, columns=categorical, drop_first=True)"
   ]
  },
  {
   "cell_type": "markdown",
   "metadata": {},
   "source": [
    "We will drop columns that have null values present. In this case, our data has no null values!"
   ]
  },
  {
   "cell_type": "code",
   "execution_count": 11,
   "metadata": {},
   "outputs": [],
   "source": [
    "# check null proportion of each column\n",
    "null_percentages = train_data.isnull().sum() / len(train_data) * 100\n",
    "drops = null_percentages[null_percentages > 0]\n",
    "drop_cols = drops.index\n",
    "\n",
    "# drop columns with nulls\n",
    "train_data = train_data.drop(columns=drop_cols)\n",
    "test_data = test_data.drop(columns=drop_cols)"
   ]
  },
  {
   "cell_type": "markdown",
   "metadata": {},
   "source": [
    "Here, we will split the training data into training and testing sets. We will preserve the 'test.csv' data separately."
   ]
  },
  {
   "cell_type": "code",
   "execution_count": 30,
   "metadata": {},
   "outputs": [],
   "source": [
    "# splitting data into 80-20 train-test split\n",
    "train, test = train_test_split(train_data, test_size=0.2)\n",
    "\n",
    "X_train = train.loc[:, train.columns != 'SalePrice']\n",
    "y_train = train['SalePrice']\n",
    "\n",
    "X_test = test.loc[:, test.columns != 'SalePrice']\n",
    "y_test = test['SalePrice']\n",
    "\n",
    "# preserving test.csv data under a different name\n",
    "X_test_kaggle = test_data.loc[:, test_data.columns != 'SalePrice']"
   ]
  },
  {
   "cell_type": "markdown",
   "metadata": {},
   "source": [
    "Let's look at the distribution of our target variable, Sale Price, to determine which models we might try first."
   ]
  },
  {
   "cell_type": "code",
   "execution_count": 15,
   "metadata": {},
   "outputs": [
    {
     "name": "stderr",
     "output_type": "stream",
     "text": [
      "/Users/gracenewman/opt/anaconda3/lib/python3.9/site-packages/seaborn/distributions.py:2619: FutureWarning: `distplot` is a deprecated function and will be removed in a future version. Please adapt your code to use either `displot` (a figure-level function with similar flexibility) or `histplot` (an axes-level function for histograms).\n",
      "  warnings.warn(msg, FutureWarning)\n"
     ]
    },
    {
     "data": {
      "text/plain": [
       "<AxesSubplot:xlabel='SalePrice', ylabel='Density'>"
      ]
     },
     "execution_count": 15,
     "metadata": {},
     "output_type": "execute_result"
    },
    {
     "data": {
      "image/png": "[encoded data removed]",
      "text/plain": [
       "<Figure size 648x576 with 1 Axes>"
      ]
     },
     "metadata": {
      "needs_background": "light"
     },
     "output_type": "display_data"
    }
   ],
   "source": [
    "plt.figure(figsize=(9, 8))\n",
    "sns.distplot(train_data['SalePrice'], color='g', bins=100, hist_kws={'alpha': 0.4})"
   ]
  },
  {
   "cell_type": "markdown",
   "metadata": {},
   "source": [
    "Given the nonlinear distribution of the target variable, Sale Price, we might try a non-parametric model first."
   ]
  },
  {
   "cell_type": "markdown",
   "metadata": {},
   "source": [
    "## Random Forest Model"
   ]
  },
  {
   "cell_type": "code",
   "execution_count": 32,
   "metadata": {},
   "outputs": [],
   "source": [
    "from sklearn.ensemble import RandomForestRegressor\n",
    "from sklearn.model_selection import cross_val_score, RandomizedSearchCV\n",
    "\n",
    "def get_best_params(X, y):\n",
    "    random_grid = {'max_depth': [10, 20, 30, 40, 50, 60, 70, 80, 90, 100, 110, None],\n",
    "               'max_features': ['auto', 'sqrt'],\n",
    "               'min_samples_leaf': [1, 2, 4],\n",
    "               'min_samples_split': [2, 5, 10],\n",
    "               'n_estimators': [130, 180, 230]}\n",
    "\n",
    "    rf_model = RandomForestRegressor()\n",
    "    rf_cv = RandomizedSearchCV(estimator = rf_model, param_distributions = random_grid, scoring='neg_root_mean_squared_error')\n",
    "    rf_cv.fit(X, y)\n",
    "    print(rf_cv.best_params_)\n",
    "    return rf_cv.best_params_"
   ]
  },
  {
   "cell_type": "code",
   "execution_count": 34,
   "metadata": {},
   "outputs": [
    {
     "name": "stdout",
     "output_type": "stream",
     "text": [
      "{'n_estimators': 130, 'min_samples_split': 10, 'min_samples_leaf': 1, 'max_features': 'auto', 'max_depth': 50}\n",
      "Out-of-Bag Score: 0.8575859580002915\n",
      "Mean CV accuracy: 0.86, SD: 0.02\n"
     ]
    }
   ],
   "source": [
    "# getting best fit parameters\n",
    "best_params = get_best_params(X_train, y_train)\n",
    "\n",
    "# initializing model and setting parameters to best found\n",
    "rf_model = RandomForestRegressor(criterion = 'squared_error', bootstrap=True, oob_score=True)\n",
    "rf_model = rf_model.set_params(**best_params)\n",
    "\n",
    "# fitting model\n",
    "rf_model.fit(X_train, y_train)\n",
    "\n",
    "# getting OOB accuracy score\n",
    "oob_score = rf_model.oob_score_\n",
    "print(f'Out-of-Bag Score: {oob_score}')\n",
    "\n",
    "# getting cross-validated accuracy score\n",
    "cv_scores = cross_val_score(rf_model, X_train, y_train, cv=5)\n",
    "print(\"Mean CV accuracy: %0.2f, SD: %0.2f\" % (cv_scores.mean(), cv_scores.std()))"
   ]
  },
  {
   "cell_type": "markdown",
   "metadata": {},
   "source": [
    "Due to the high dimensionality of the dataset, let's try a reduced model. We'll do this by dropping the features with the lowest importance in the model. We will drop features with an importance < 0.005, which is approximately the median importance level."
   ]
  },
  {
   "cell_type": "code",
   "execution_count": 44,
   "metadata": {},
   "outputs": [
    {
     "name": "stdout",
     "output_type": "stream",
     "text": [
      "Features in full model: 232\n",
      "Features in reduced model: 12\n"
     ]
    },
    {
     "data": {
      "text/plain": [
       "<AxesSubplot:>"
      ]
     },
     "execution_count": 44,
     "metadata": {},
     "output_type": "execute_result"
    },
    {
     "data": {
      "image/png": "[encoded data removed]",
      "text/plain": [
       "<Figure size 432x288 with 1 Axes>"
      ]
     },
     "metadata": {
      "needs_background": "light"
     },
     "output_type": "display_data"
    }
   ],
   "source": [
    "# getting feature importances\n",
    "feats = {}\n",
    "for feature, importance in zip(X_train.columns, rf_model.feature_importances_):\n",
    "    feats[feature] = importance\n",
    "\n",
    "importances = pd.DataFrame.from_dict(feats, orient='index').rename(columns={0: 'importance'})\n",
    "print(f\"Features in full model: {len(importances)}\")\n",
    "\n",
    "# filtering features with importance = 0\n",
    "importances = importances[importances['importance'] >= 0.005]\n",
    "print(f\"Features in reduced model: {len(importances)}\")\n",
    "\n",
    "keep_features = importances.index.to_list()\n",
    "\n",
    "# reducing training data\n",
    "X_train_reduced = X_train[keep_features]\n",
    "X_test_reduced = X_test[keep_features]\n",
    "\n",
    "# plotting feature importances\n",
    "importances.sort_values(by='importance').plot(kind='bar', rot=45)"
   ]
  },
  {
   "cell_type": "markdown",
   "metadata": {},
   "source": [
    "Let's train the reduced model using the same method as we did with the full model."
   ]
  },
  {
   "cell_type": "code",
   "execution_count": 38,
   "metadata": {},
   "outputs": [
    {
     "name": "stdout",
     "output_type": "stream",
     "text": [
      "{'n_estimators': 130, 'min_samples_split': 2, 'min_samples_leaf': 1, 'max_features': 'auto', 'max_depth': 60}\n",
      "Reduced Out-of-Bag Score: 0.8622309515691802\n",
      "Reduced Mean CV accuracy: 0.86, SD: 0.03\n"
     ]
    }
   ],
   "source": [
    "# getting best fit parameters\n",
    "best_params = get_best_params(X_train, y_train)\n",
    "\n",
    "# initializing reduced model and setting parameters to best found\n",
    "rf_model_reduced = RandomForestRegressor(criterion = 'squared_error', bootstrap=True, oob_score=True)\n",
    "rf_model_reduced = rf_model_reduced.set_params(**best_params)\n",
    "\n",
    "# fitting reduced model\n",
    "rf_model_reduced.fit(X_train, y_train)\n",
    "\n",
    "# getting OOB accuracy score\n",
    "oob_score = rf_model_reduced.oob_score_\n",
    "print(f'Reduced Out-of-Bag Score: {oob_score}')\n",
    "\n",
    "# getting cross-validated accuracy score\n",
    "cv_scores = cross_val_score(rf_model_reduced, X_train_reduced, y_train, cv=5)\n",
    "print(\"Reduced Mean CV accuracy: %0.2f, SD: %0.2f\" % (cv_scores.mean(), cv_scores.std()))"
   ]
  },
  {
   "cell_type": "markdown",
   "metadata": {},
   "source": [
    "On average, we get a 1% increase in accuracy on the training set. Let's evaluate the test set."
   ]
  },
  {
   "cell_type": "code",
   "execution_count": 42,
   "metadata": {},
   "outputs": [
    {
     "name": "stdout",
     "output_type": "stream",
     "text": [
      "Full Out-of-Bag Score: 0.8446383722835771\n",
      "Full Mean CV accuracy: 0.85, SD: 0.02\n",
      "Reduced Out-of-Bag Score: 0.8452789481372873\n",
      "Reduced Mean CV accuracy: 0.86, SD: 0.03\n"
     ]
    }
   ],
   "source": [
    "rf_model.fit(X_test, y_test)\n",
    "rf_model_reduced.fit(X_test_reduced, y_test)\n",
    "\n",
    "# full model scoring\n",
    "oob_score = rf_model.oob_score_\n",
    "print(f'Full Out-of-Bag Score: {oob_score}')\n",
    "\n",
    "cv_scores = cross_val_score(rf_model, X_train, y_train, cv=5)\n",
    "print(\"Full Mean CV accuracy: %0.2f, SD: %0.2f\" % (cv_scores.mean(), cv_scores.std()))\n",
    "\n",
    "# reduced model scoring\n",
    "oob_score = rf_model_reduced.oob_score_\n",
    "print(f'Reduced Out-of-Bag Score: {oob_score}')\n",
    "\n",
    "cv_scores = cross_val_score(rf_model_reduced, X_train_reduced, y_train, cv=5)\n",
    "print(\"Reduced Mean CV accuracy: %0.2f, SD: %0.2f\" % (cv_scores.mean(), cv_scores.std()))"
   ]
  },
  {
   "cell_type": "markdown",
   "metadata": {},
   "source": [
    "We do see a marginal increase in the accuracy of the reduced model. Due to its significanty lower dimensionality, the reduced model is preferred over the full."
   ]
  },
  {
   "cell_type": "markdown",
   "metadata": {},
   "source": [
    "## XGBoost Model"
   ]
  },
  {
   "cell_type": "code",
   "execution_count": null,
   "metadata": {},
   "outputs": [],
   "source": []
  }
 ],
 "metadata": {
  "kernelspec": {
   "display_name": "Python [conda env:base] *",
   "language": "python",
   "name": "conda-base-py"
  },
  "language_info": {
   "codemirror_mode": {
    "name": "ipython",
    "version": 3
   },
   "file_extension": ".py",
   "mimetype": "text/x-python",
   "name": "python",
   "nbconvert_exporter": "python",
   "pygments_lexer": "ipython3",
   "version": "3.9.21"
  }
 },
 "nbformat": 4,
 "nbformat_minor": 4
}
