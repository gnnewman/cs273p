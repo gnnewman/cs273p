{
 "cells": [
  {
   "cell_type": "markdown",
   "metadata": {},
   "source": [
    "# Home Price Prediction: DATA 273P Final Project\n",
    "### Data sourced from: https://www.kaggle.com/competitions/house-prices-advanced-regression-techniques/overview\n",
    "### Grace Newman, Kaitlyn Morenzone, Abigail Mori"
   ]
  },
  {
   "cell_type": "code",
   "execution_count": 2,
   "metadata": {},
   "outputs": [],
   "source": [
    "import pandas as pd\n",
    "import numpy as np\n",
    "from sklearn.model_selection import train_test_split\n",
    "import matplotlib.pyplot as plt\n",
    "import seaborn as sns"
   ]
  },
  {
   "cell_type": "markdown",
   "metadata": {},
   "source": [
    "## Data Ingestion and Preprocessing\n",
    "The 'test.csv' file has no predictor column, as Kaggle intends users to submit the predictions of their regression model on that test dataset blindly. Therefore, we will split the training dataset in order to measure accuracy within this notebook."
   ]
  },
  {
   "cell_type": "code",
   "execution_count": 4,
   "metadata": {},
   "outputs": [],
   "source": [
    "## ingest data\n",
    "train_df = pd.read_csv('house-prices-advanced-regression-techniques/train.csv')"
   ]
  },
  {
   "cell_type": "code",
   "execution_count": 5,
   "metadata": {},
   "outputs": [],
   "source": [
    "train_df.set_index('Id', inplace=True)"
   ]
  },
  {
   "cell_type": "code",
   "execution_count": 6,
   "metadata": {},
   "outputs": [
    {
     "name": "stdout",
     "output_type": "stream",
     "text": [
      "(1460, 80)\n"
     ]
    }
   ],
   "source": [
    "print(train_df.shape)"
   ]
  },
  {
   "cell_type": "markdown",
   "metadata": {},
   "source": [
    "There is high dimensionality in this dataset, so we will drop some columns that we find least likely to be good predictors of home price."
   ]
  },
  {
   "cell_type": "code",
   "execution_count": 8,
   "metadata": {},
   "outputs": [],
   "source": [
    "# drop some non-predictive columns\n",
    "drop_cols = ['Street', 'Alley', 'LotShape', 'LandContour', 'LandSlope']\n",
    "train_df = train_df.drop(columns=drop_cols)"
   ]
  },
  {
   "cell_type": "markdown",
   "metadata": {},
   "source": [
    "Cateogorical columns are stored as 'Object' types. We need to encode these values to integers so that they can be used in regression."
   ]
  },
  {
   "cell_type": "code",
   "execution_count": 10,
   "metadata": {},
   "outputs": [],
   "source": [
    "# listing categorical columns\n",
    "categorical = []\n",
    "\n",
    "for col in train_df.columns:\n",
    "    if train_df[col].dtype == 'object':\n",
    "        categorical.append(col)\n",
    "\n",
    "# using pd.get_dummies to encode \n",
    "train_data = pd.get_dummies(train_df, columns=categorical, drop_first=True)"
   ]
  },
  {
   "cell_type": "markdown",
   "metadata": {},
   "source": [
    "We will drop columns that have null values present. In this case, our data has no null values!"
   ]
  },
  {
   "cell_type": "code",
   "execution_count": 12,
   "metadata": {},
   "outputs": [],
   "source": [
    "# check null proportion of each column\n",
    "null_percentages = train_data.isnull().sum() / len(train_data) * 100\n",
    "drops = null_percentages[null_percentages > 0]\n",
    "drop_cols = drops.index\n",
    "\n",
    "# drop columns with nulls\n",
    "train_data = train_data.drop(columns=drop_cols)"
   ]
  },
  {
   "cell_type": "markdown",
   "metadata": {},
   "source": [
    "Here, we will split the training data into training and testing sets."
   ]
  },
  {
   "cell_type": "code",
   "execution_count": 14,
   "metadata": {},
   "outputs": [],
   "source": [
    "# splitting data into 80-20 train-test split\n",
    "train, test = train_test_split(train_data, test_size=0.2)\n",
    "\n",
    "X_train = train.loc[:, train.columns != 'SalePrice']\n",
    "y_train = train['SalePrice']\n",
    "\n",
    "X_test = test.loc[:, test.columns != 'SalePrice']\n",
    "y_test = test['SalePrice']"
   ]
  },
  {
   "cell_type": "markdown",
   "metadata": {},
   "source": [
    "Let's look at the distribution of our target variable, Sale Price, to determine which models we might try first."
   ]
  },
  {
   "cell_type": "code",
   "execution_count": 16,
   "metadata": {},
   "outputs": [
    {
     "name": "stderr",
     "output_type": "stream",
     "text": [
      "/Users/gracenewman/opt/anaconda3/lib/python3.9/site-packages/seaborn/distributions.py:2619: FutureWarning: `distplot` is a deprecated function and will be removed in a future version. Please adapt your code to use either `displot` (a figure-level function with similar flexibility) or `histplot` (an axes-level function for histograms).\n",
      "  warnings.warn(msg, FutureWarning)\n"
     ]
    },
    {
     "data": {
      "text/plain": [
       "<AxesSubplot:xlabel='SalePrice', ylabel='Density'>"
      ]
     },
     "execution_count": 16,
     "metadata": {},
     "output_type": "execute_result"
    },
    {
     "data": {
      "image/png": "[encoded data removed]",
      "text/plain": [
       "<Figure size 648x576 with 1 Axes>"
      ]
     },
     "metadata": {
      "needs_background": "light"
     },
     "output_type": "display_data"
    }
   ],
   "source": [
    "plt.figure(figsize=(9, 8))\n",
    "sns.distplot(train_data['SalePrice'], color='g', bins=100, hist_kws={'alpha': 0.4})"
   ]
  },
  {
   "cell_type": "markdown",
   "metadata": {},
   "source": [
    "Given the nonlinear distribution of the target variable, Sale Price, we might try a non-parametric model first."
   ]
  },
  {
   "cell_type": "markdown",
   "metadata": {},
   "source": [
    "## Random Forest Model"
   ]
  },
  {
   "cell_type": "code",
   "execution_count": 19,
   "metadata": {},
   "outputs": [],
   "source": [
    "from sklearn.ensemble import RandomForestRegressor\n",
    "from sklearn.model_selection import cross_val_score, RandomizedSearchCV\n",
    "\n",
    "def get_best_params(X, y):\n",
    "    random_grid = {'max_depth': [10, 20, 30, 40, 50, 60, 70, 80, 90, 100, 110, None],\n",
    "               'max_features': ['auto', 'sqrt'],\n",
    "               'min_samples_leaf': [1, 2, 4],\n",
    "               'min_samples_split': [2, 5, 10],\n",
    "               'n_estimators': [130, 180, 230]}\n",
    "\n",
    "    rf_model = RandomForestRegressor()\n",
    "    rf_cv = RandomizedSearchCV(estimator = rf_model, param_distributions = random_grid, scoring='neg_root_mean_squared_error')\n",
    "    rf_cv.fit(X, y)\n",
    "    print(rf_cv.best_params_)\n",
    "    return rf_cv.best_params_"
   ]
  },
  {
   "cell_type": "code",
   "execution_count": 20,
   "metadata": {},
   "outputs": [
    {
     "name": "stdout",
     "output_type": "stream",
     "text": [
      "{'n_estimators': 130, 'min_samples_split': 2, 'min_samples_leaf': 1, 'max_features': 'auto', 'max_depth': 50}\n",
      "Out-of-Bag Score: 0.8634855337903755\n",
      "Mean CV accuracy: 0.86, SD: 0.06\n"
     ]
    }
   ],
   "source": [
    "# getting best fit parameters\n",
    "best_params = get_best_params(X_train, y_train)\n",
    "\n",
    "# initializing model and setting parameters to best found\n",
    "rf_model = RandomForestRegressor(criterion = 'squared_error', bootstrap=True, oob_score=True)\n",
    "rf_model = rf_model.set_params(**best_params)\n",
    "\n",
    "# fitting model\n",
    "rf_model.fit(X_train, y_train)\n",
    "\n",
    "# getting OOB accuracy score\n",
    "oob_score = rf_model.oob_score_\n",
    "print(f'Out-of-Bag Score: {oob_score}')\n",
    "\n",
    "# getting cross-validated accuracy score\n",
    "cv_scores = cross_val_score(rf_model, X_train, y_train, cv=5)\n",
    "print(\"Mean CV accuracy: %0.2f, SD: %0.2f\" % (cv_scores.mean(), cv_scores.std()))"
   ]
  },
  {
   "cell_type": "markdown",
   "metadata": {},
   "source": [
    "Due to the high dimensionality of the dataset, let's try a reduced model. We'll do this by dropping the features with the lowest importance in the model. We will drop features with an importance < 0.005, which is approximately the median importance level."
   ]
  },
  {
   "cell_type": "code",
   "execution_count": 22,
   "metadata": {},
   "outputs": [
    {
     "name": "stdout",
     "output_type": "stream",
     "text": [
      "Features in full model: 232\n",
      "Features in reduced model: 14\n"
     ]
    },
    {
     "data": {
      "text/plain": [
       "<AxesSubplot:>"
      ]
     },
     "execution_count": 22,
     "metadata": {},
     "output_type": "execute_result"
    },
    {
     "data": {
      "image/png": "[encoded data removed]",
      "text/plain": [
       "<Figure size 432x288 with 1 Axes>"
      ]
     },
     "metadata": {
      "needs_background": "light"
     },
     "output_type": "display_data"
    }
   ],
   "source": [
    "# getting feature importances\n",
    "feats = {}\n",
    "for feature, importance in zip(X_train.columns, rf_model.feature_importances_):\n",
    "    feats[feature] = importance\n",
    "\n",
    "importances = pd.DataFrame.from_dict(feats, orient='index').rename(columns={0: 'importance'})\n",
    "print(f\"Features in full model: {len(importances)}\")\n",
    "\n",
    "# filtering features with importance = 0\n",
    "importances = importances[importances['importance'] >= 0.005]\n",
    "print(f\"Features in reduced model: {len(importances)}\")\n",
    "\n",
    "keep_features = importances.index.to_list()\n",
    "\n",
    "# reducing training data\n",
    "X_train_reduced = X_train[keep_features]\n",
    "X_test_reduced = X_test[keep_features]\n",
    "\n",
    "# plotting feature importances\n",
    "importances.sort_values(by='importance').plot(kind='bar', rot=45)"
   ]
  },
  {
   "cell_type": "markdown",
   "metadata": {},
   "source": [
    "Let's train the reduced model using the same method as we did with the full model."
   ]
  },
  {
   "cell_type": "code",
   "execution_count": 24,
   "metadata": {},
   "outputs": [
    {
     "name": "stdout",
     "output_type": "stream",
     "text": [
      "{'n_estimators': 180, 'min_samples_split': 5, 'min_samples_leaf': 1, 'max_features': 'auto', 'max_depth': 50}\n",
      "Reduced Out-of-Bag Score: 0.8653353482476351\n",
      "Reduced Mean CV accuracy: 0.86, SD: 0.06\n"
     ]
    }
   ],
   "source": [
    "# getting best fit parameters\n",
    "best_params = get_best_params(X_train, y_train)\n",
    "\n",
    "# initializing reduced model and setting parameters to best found\n",
    "rf_model_reduced = RandomForestRegressor(criterion = 'squared_error', bootstrap=True, oob_score=True)\n",
    "rf_model_reduced = rf_model_reduced.set_params(**best_params)\n",
    "\n",
    "# fitting reduced model\n",
    "rf_model_reduced.fit(X_train, y_train)\n",
    "\n",
    "# getting OOB accuracy score\n",
    "oob_score = rf_model_reduced.oob_score_\n",
    "print(f'Reduced Out-of-Bag Score: {oob_score}')\n",
    "\n",
    "# getting cross-validated accuracy score\n",
    "cv_scores = cross_val_score(rf_model_reduced, X_train_reduced, y_train, cv=5)\n",
    "print(\"Reduced Mean CV accuracy: %0.2f, SD: %0.2f\" % (cv_scores.mean(), cv_scores.std()))"
   ]
  },
  {
   "cell_type": "markdown",
   "metadata": {},
   "source": [
    "On average, we get a marginal increase in accuracy on the training set. Let's evaluate the test set."
   ]
  },
  {
   "cell_type": "code",
   "execution_count": 26,
   "metadata": {},
   "outputs": [
    {
     "name": "stdout",
     "output_type": "stream",
     "text": [
      "Full Out-of-Bag Score: 0.7681861601261954\n",
      "Full Mean CV accuracy: 0.86, SD: 0.06\n",
      "Reduced Out-of-Bag Score: 0.754800786881857\n",
      "Reduced Mean CV accuracy: 0.86, SD: 0.06\n"
     ]
    }
   ],
   "source": [
    "rf_model.fit(X_test, y_test)\n",
    "rf_model_reduced.fit(X_test_reduced, y_test)\n",
    "\n",
    "# full model scoring\n",
    "oob_score = rf_model.oob_score_\n",
    "print(f'Full Out-of-Bag Score: {oob_score}')\n",
    "\n",
    "cv_scores = cross_val_score(rf_model, X_train, y_train, cv=5)\n",
    "print(\"Full Mean CV accuracy: %0.2f, SD: %0.2f\" % (cv_scores.mean(), cv_scores.std()))\n",
    "\n",
    "# reduced model scoring\n",
    "oob_score = rf_model_reduced.oob_score_\n",
    "print(f'Reduced Out-of-Bag Score: {oob_score}')\n",
    "\n",
    "cv_scores = cross_val_score(rf_model_reduced, X_train_reduced, y_train, cv=5)\n",
    "print(\"Reduced Mean CV accuracy: %0.2f, SD: %0.2f\" % (cv_scores.mean(), cv_scores.std()))"
   ]
  },
  {
   "cell_type": "markdown",
   "metadata": {},
   "source": [
    "We do see a marginal increase in the accuracy of the reduced model. Due to its significanty lower dimensionality, the reduced model is preferred over the full."
   ]
  },
  {
   "cell_type": "markdown",
   "metadata": {},
   "source": [
    "## XGBoost Model\n",
    "XGBoost is a popular gradient-boosted decision tree algorithm that has been used for the task of home price prediction in numerous papers. Let's apply it here!"
   ]
  },
  {
   "cell_type": "code",
   "execution_count": 29,
   "metadata": {},
   "outputs": [],
   "source": [
    "from sklearn.metrics import accuracy_score\n",
    "import xgboost as xgb\n",
    "from sklearn.model_selection import StratifiedKFold"
   ]
  },
  {
   "cell_type": "code",
   "execution_count": 30,
   "metadata": {},
   "outputs": [],
   "source": [
    "# re-loading train/test data\n",
    "# splitting data into 80-20 train-test split\n",
    "train, test = train_test_split(train_data, test_size=0.2)\n",
    "\n",
    "X_train = train.loc[:, train.columns != 'SalePrice']\n",
    "y_train = train['SalePrice']\n",
    "\n",
    "X_test = test.loc[:, test.columns != 'SalePrice']\n",
    "y_test = test['SalePrice']"
   ]
  },
  {
   "cell_type": "code",
   "execution_count": 31,
   "metadata": {},
   "outputs": [
    {
     "name": "stdout",
     "output_type": "stream",
     "text": [
      "[0]\tvalidation_0-rmse:66249.46920\n",
      "[1]\tvalidation_0-rmse:54162.01454\n",
      "[2]\tvalidation_0-rmse:44267.61786\n",
      "[3]\tvalidation_0-rmse:37618.96588\n",
      "[4]\tvalidation_0-rmse:33044.13838\n",
      "[5]\tvalidation_0-rmse:31605.25128\n",
      "[6]\tvalidation_0-rmse:30107.57559\n",
      "[7]\tvalidation_0-rmse:29518.45224\n",
      "[8]\tvalidation_0-rmse:28884.96460\n",
      "[9]\tvalidation_0-rmse:28624.31506\n",
      "[10]\tvalidation_0-rmse:28339.31426\n",
      "[11]\tvalidation_0-rmse:28191.29873\n",
      "[12]\tvalidation_0-rmse:28247.28526\n",
      "[13]\tvalidation_0-rmse:28124.59291\n",
      "[14]\tvalidation_0-rmse:28098.08060\n",
      "[15]\tvalidation_0-rmse:28108.86961\n",
      "[16]\tvalidation_0-rmse:27989.75121\n",
      "[17]\tvalidation_0-rmse:28020.72841\n",
      "[18]\tvalidation_0-rmse:27958.69515\n",
      "[19]\tvalidation_0-rmse:27944.96292\n",
      "[20]\tvalidation_0-rmse:28034.28108\n",
      "[21]\tvalidation_0-rmse:28018.67154\n",
      "[22]\tvalidation_0-rmse:28076.03498\n",
      "[23]\tvalidation_0-rmse:28079.36133\n",
      "[24]\tvalidation_0-rmse:27960.61744\n",
      "[25]\tvalidation_0-rmse:27954.92337\n",
      "[26]\tvalidation_0-rmse:27894.79557\n",
      "[27]\tvalidation_0-rmse:27907.76242\n",
      "[28]\tvalidation_0-rmse:27844.10982\n",
      "[29]\tvalidation_0-rmse:27814.74852\n",
      "[30]\tvalidation_0-rmse:27800.72760\n",
      "[31]\tvalidation_0-rmse:27743.57705\n",
      "[32]\tvalidation_0-rmse:27704.67969\n",
      "[33]\tvalidation_0-rmse:27733.81514\n",
      "[34]\tvalidation_0-rmse:27698.36820\n",
      "[35]\tvalidation_0-rmse:27723.07076\n",
      "[36]\tvalidation_0-rmse:27762.75224\n",
      "[37]\tvalidation_0-rmse:27767.71567\n",
      "[38]\tvalidation_0-rmse:27728.75993\n",
      "[39]\tvalidation_0-rmse:27691.13894\n",
      "[40]\tvalidation_0-rmse:27682.25434\n",
      "[41]\tvalidation_0-rmse:27663.45688\n",
      "[42]\tvalidation_0-rmse:27653.58011\n",
      "[43]\tvalidation_0-rmse:27684.60958\n",
      "[44]\tvalidation_0-rmse:27633.32439\n",
      "[45]\tvalidation_0-rmse:27626.11810\n",
      "[46]\tvalidation_0-rmse:27613.67123\n",
      "[47]\tvalidation_0-rmse:27593.72467\n",
      "[48]\tvalidation_0-rmse:27713.82655\n",
      "[49]\tvalidation_0-rmse:27724.59735\n",
      "[50]\tvalidation_0-rmse:27697.00426\n",
      "[51]\tvalidation_0-rmse:27704.45946\n",
      "[52]\tvalidation_0-rmse:27696.44542\n",
      "[53]\tvalidation_0-rmse:27680.57021\n",
      "[54]\tvalidation_0-rmse:27665.69929\n",
      "[55]\tvalidation_0-rmse:27659.60031\n",
      "[56]\tvalidation_0-rmse:27651.47105\n",
      "[57]\tvalidation_0-rmse:27641.25130\n",
      "[58]\tvalidation_0-rmse:27604.21267\n",
      "[59]\tvalidation_0-rmse:27604.66969\n",
      "[60]\tvalidation_0-rmse:27604.12921\n",
      "[61]\tvalidation_0-rmse:27598.94034\n",
      "[62]\tvalidation_0-rmse:27597.18208\n",
      "[63]\tvalidation_0-rmse:27606.22637\n",
      "[64]\tvalidation_0-rmse:27614.68166\n",
      "[65]\tvalidation_0-rmse:27625.20427\n",
      "[66]\tvalidation_0-rmse:27628.85638\n",
      "[67]\tvalidation_0-rmse:27617.29858\n",
      "[68]\tvalidation_0-rmse:27612.08198\n",
      "[69]\tvalidation_0-rmse:27608.64603\n",
      "[70]\tvalidation_0-rmse:27619.72777\n",
      "[71]\tvalidation_0-rmse:27620.53333\n",
      "[72]\tvalidation_0-rmse:27600.78224\n",
      "[73]\tvalidation_0-rmse:27609.33228\n",
      "[74]\tvalidation_0-rmse:27586.43062\n",
      "[75]\tvalidation_0-rmse:27609.21018\n",
      "[76]\tvalidation_0-rmse:27617.48524\n",
      "[77]\tvalidation_0-rmse:27621.18607\n",
      "[78]\tvalidation_0-rmse:27625.00269\n",
      "[79]\tvalidation_0-rmse:27622.00924\n",
      "[80]\tvalidation_0-rmse:27617.77738\n",
      "[81]\tvalidation_0-rmse:27601.41175\n",
      "[82]\tvalidation_0-rmse:27603.72299\n",
      "[83]\tvalidation_0-rmse:27615.27048\n",
      "[84]\tvalidation_0-rmse:27626.55411\n",
      "[85]\tvalidation_0-rmse:27623.99870\n",
      "[86]\tvalidation_0-rmse:27630.28291\n",
      "[87]\tvalidation_0-rmse:27633.30008\n",
      "[88]\tvalidation_0-rmse:27627.60735\n",
      "[89]\tvalidation_0-rmse:27627.43773\n",
      "[90]\tvalidation_0-rmse:27625.70921\n",
      "[91]\tvalidation_0-rmse:27629.84744\n",
      "[92]\tvalidation_0-rmse:27652.16885\n",
      "[93]\tvalidation_0-rmse:27650.27297\n",
      "[94]\tvalidation_0-rmse:27653.58416\n",
      "[95]\tvalidation_0-rmse:27652.18221\n",
      "[96]\tvalidation_0-rmse:27645.29423\n",
      "[97]\tvalidation_0-rmse:27640.13954\n",
      "[98]\tvalidation_0-rmse:27639.11233\n",
      "[99]\tvalidation_0-rmse:27640.01292\n"
     ]
    }
   ],
   "source": [
    "# Fit the estimator on the train set and score it on both sets\n",
    "def fit_and_score(estimator, X_train, X_test, y_train, y_test):\n",
    "    estimator.fit(X_train, y_train, eval_set=[(X_test, y_test)])\n",
    "\n",
    "    train_score = estimator.score(X_train, y_train)\n",
    "    test_score = estimator.score(X_test, y_test)\n",
    "\n",
    "    return estimator, train_score, test_score\n",
    "\n",
    "clf = xgb.XGBRegressor(objective='reg:squarederror')\n",
    "\n",
    "results = {}\n",
    "# training\n",
    "est, train_score, test_score = fit_and_score(\n",
    "    clf, X_train, X_test, y_train, y_test\n",
    ")\n",
    "results[est] = (train_score, test_score)"
   ]
  },
  {
   "cell_type": "markdown",
   "metadata": {},
   "source": [
    "The full XGBoost model performs similarly to the random forest models, but is more prone to overfitting. Let's try a reduced XGBoost model to compare, using the same parameter reduction method as we did earlier. Then, we'll adjust the hyperparameters of the model to avoid overfitting."
   ]
  },
  {
   "cell_type": "code",
   "execution_count": 33,
   "metadata": {},
   "outputs": [
    {
     "name": "stdout",
     "output_type": "stream",
     "text": [
      "Features in full model: 232\n",
      "Features in reduced model: 12\n"
     ]
    },
    {
     "data": {
      "text/plain": [
       "<AxesSubplot:>"
      ]
     },
     "execution_count": 33,
     "metadata": {},
     "output_type": "execute_result"
    },
    {
     "data": {
      "image/png": "[encoded data removed]",
      "text/plain": [
       "<Figure size 432x288 with 1 Axes>"
      ]
     },
     "metadata": {
      "needs_background": "light"
     },
     "output_type": "display_data"
    }
   ],
   "source": [
    "# getting feature importances\n",
    "feats = {}\n",
    "for feature, importance in zip(X_train.columns, rf_model.feature_importances_):\n",
    "    feats[feature] = importance\n",
    "\n",
    "importances = pd.DataFrame.from_dict(feats, orient='index').rename(columns={0: 'importance'})\n",
    "print(f\"Features in full model: {len(importances)}\")\n",
    "\n",
    "# filtering features with importance = 0\n",
    "importances = importances[importances['importance'] >= 0.01]\n",
    "print(f\"Features in reduced model: {len(importances)}\")\n",
    "\n",
    "keep_features = importances.index.to_list()\n",
    "\n",
    "# reducing training data\n",
    "X_train_reduced = X_train[keep_features]\n",
    "X_test_reduced = X_test[keep_features]\n",
    "\n",
    "# plotting feature importances\n",
    "importances.sort_values(by='importance').plot(kind='bar', rot=45)"
   ]
  },
  {
   "cell_type": "code",
   "execution_count": 34,
   "metadata": {},
   "outputs": [
    {
     "name": "stdout",
     "output_type": "stream",
     "text": [
      "[0]\tvalidation_0-rmse:68191.06123\n",
      "[1]\tvalidation_0-rmse:57400.41955\n",
      "[2]\tvalidation_0-rmse:50566.88696\n",
      "[3]\tvalidation_0-rmse:43950.13436\n",
      "[4]\tvalidation_0-rmse:39193.34329\n",
      "[5]\tvalidation_0-rmse:38682.74168\n",
      "[6]\tvalidation_0-rmse:36760.84022\n",
      "[7]\tvalidation_0-rmse:35774.68532\n",
      "[8]\tvalidation_0-rmse:34271.05815\n",
      "[9]\tvalidation_0-rmse:33112.19029\n",
      "[10]\tvalidation_0-rmse:33229.29883\n",
      "[11]\tvalidation_0-rmse:32585.23246\n",
      "[12]\tvalidation_0-rmse:31627.39357\n",
      "[13]\tvalidation_0-rmse:31919.55057\n",
      "[14]\tvalidation_0-rmse:31722.75344\n",
      "[15]\tvalidation_0-rmse:31612.89829\n",
      "[16]\tvalidation_0-rmse:31364.20426\n",
      "[17]\tvalidation_0-rmse:31501.73043\n",
      "[18]\tvalidation_0-rmse:31246.01760\n",
      "[19]\tvalidation_0-rmse:31187.78159\n",
      "[20]\tvalidation_0-rmse:31182.85728\n",
      "[21]\tvalidation_0-rmse:31150.76709\n",
      "[22]\tvalidation_0-rmse:31410.94555\n",
      "[23]\tvalidation_0-rmse:31412.36123\n",
      "[24]\tvalidation_0-rmse:31191.00440\n",
      "[25]\tvalidation_0-rmse:31163.10034\n",
      "[26]\tvalidation_0-rmse:31227.89934\n",
      "[27]\tvalidation_0-rmse:31198.79077\n",
      "[28]\tvalidation_0-rmse:31219.68174\n",
      "[29]\tvalidation_0-rmse:31241.46498\n",
      "[30]\tvalidation_0-rmse:31276.14303\n",
      "[31]\tvalidation_0-rmse:31169.18835\n",
      "[32]\tvalidation_0-rmse:31386.05228\n",
      "[33]\tvalidation_0-rmse:31098.16904\n",
      "[34]\tvalidation_0-rmse:30871.52710\n",
      "[35]\tvalidation_0-rmse:30875.08656\n",
      "[36]\tvalidation_0-rmse:30867.48358\n",
      "[37]\tvalidation_0-rmse:31215.77192\n",
      "[38]\tvalidation_0-rmse:31224.64600\n",
      "[39]\tvalidation_0-rmse:31250.62267\n",
      "[40]\tvalidation_0-rmse:31400.01502\n",
      "[41]\tvalidation_0-rmse:31403.52298\n",
      "[42]\tvalidation_0-rmse:31283.99199\n",
      "[43]\tvalidation_0-rmse:31310.46145\n",
      "[44]\tvalidation_0-rmse:31389.24793\n",
      "[45]\tvalidation_0-rmse:31322.29820\n",
      "[46]\tvalidation_0-rmse:31426.59143\n",
      "[47]\tvalidation_0-rmse:31469.89807\n",
      "[48]\tvalidation_0-rmse:31423.17880\n",
      "[49]\tvalidation_0-rmse:31465.00250\n",
      "[50]\tvalidation_0-rmse:31495.47590\n",
      "[51]\tvalidation_0-rmse:31495.50705\n",
      "[52]\tvalidation_0-rmse:31411.40082\n",
      "[53]\tvalidation_0-rmse:31423.75390\n",
      "[54]\tvalidation_0-rmse:31329.02221\n",
      "[55]\tvalidation_0-rmse:31241.84899\n",
      "[56]\tvalidation_0-rmse:31099.05931\n",
      "[57]\tvalidation_0-rmse:31144.61324\n",
      "[58]\tvalidation_0-rmse:31188.03304\n",
      "[59]\tvalidation_0-rmse:31185.67948\n",
      "[60]\tvalidation_0-rmse:31171.06917\n",
      "[61]\tvalidation_0-rmse:31184.53896\n",
      "[62]\tvalidation_0-rmse:31135.63709\n",
      "[63]\tvalidation_0-rmse:31213.18492\n",
      "[64]\tvalidation_0-rmse:31218.88658\n",
      "[65]\tvalidation_0-rmse:31130.76360\n",
      "[66]\tvalidation_0-rmse:31137.55427\n",
      "[67]\tvalidation_0-rmse:31075.34186\n",
      "[68]\tvalidation_0-rmse:31108.70763\n",
      "[69]\tvalidation_0-rmse:31075.44984\n",
      "[70]\tvalidation_0-rmse:31122.39774\n",
      "[71]\tvalidation_0-rmse:31181.76834\n",
      "[72]\tvalidation_0-rmse:31292.97631\n",
      "[73]\tvalidation_0-rmse:31371.35491\n",
      "[74]\tvalidation_0-rmse:31362.30014\n",
      "[75]\tvalidation_0-rmse:31380.38829\n",
      "[76]\tvalidation_0-rmse:31353.59314\n",
      "[77]\tvalidation_0-rmse:31368.10536\n",
      "[78]\tvalidation_0-rmse:31489.11596\n",
      "[79]\tvalidation_0-rmse:31535.96349\n",
      "[80]\tvalidation_0-rmse:31482.88954\n",
      "[81]\tvalidation_0-rmse:31450.11193\n",
      "[82]\tvalidation_0-rmse:31467.21829\n",
      "[83]\tvalidation_0-rmse:31467.72608\n",
      "[84]\tvalidation_0-rmse:31423.06250\n",
      "[85]\tvalidation_0-rmse:31399.12404\n",
      "[86]\tvalidation_0-rmse:31390.04185\n",
      "[87]\tvalidation_0-rmse:31384.07579\n",
      "[88]\tvalidation_0-rmse:31350.67036\n",
      "[89]\tvalidation_0-rmse:31398.18687\n",
      "[90]\tvalidation_0-rmse:31399.56942\n",
      "[91]\tvalidation_0-rmse:31446.15831\n",
      "[92]\tvalidation_0-rmse:31438.71612\n",
      "[93]\tvalidation_0-rmse:31439.30554\n",
      "[94]\tvalidation_0-rmse:31481.80049\n",
      "[95]\tvalidation_0-rmse:31451.70804\n",
      "[96]\tvalidation_0-rmse:31388.36419\n",
      "[97]\tvalidation_0-rmse:31361.08987\n",
      "[98]\tvalidation_0-rmse:31285.81741\n",
      "[99]\tvalidation_0-rmse:31272.06714\n"
     ]
    }
   ],
   "source": [
    "clf_reduced = xgb.XGBRegressor(objective='reg:squarederror', max_depth=3, min_child_weight=2, gamma=2)\n",
    "\n",
    "results = {}\n",
    "\n",
    "est, train_score_reduced, test_score_reduced = fit_and_score(\n",
    "    clf_reduced, X_train_reduced, X_test_reduced, y_train, y_test\n",
    ")\n",
    "results[est] = (train_score_reduced, test_score_reduced)"
   ]
  },
  {
   "cell_type": "code",
   "execution_count": 35,
   "metadata": {},
   "outputs": [
    {
     "name": "stdout",
     "output_type": "stream",
     "text": [
      "Full XGBoost train score: 0.9997151514450491\n",
      "Full XGBoost test score: 0.8903140873382431\n",
      "Full XGBoost Mean CV accuracy: 0.86, SD: 0.05\n",
      "\n",
      "Reduced XGBoost train score: 0.9726994549114042\n",
      "Reduced XGBoost test score: 0.8595933900511185\n",
      "Reduced XGBoost Mean CV accuracy: 0.82, SD: 0.05\n"
     ]
    }
   ],
   "source": [
    "# full model evaluation\n",
    "print(f\"Full XGBoost train score: {train_score}\")\n",
    "print(f\"Full XGBoost test score: {test_score}\")\n",
    "\n",
    "cv_scores = cross_val_score(clf, X_train, y_train, cv=5)\n",
    "print(\"Full XGBoost Mean CV accuracy: %0.2f, SD: %0.2f\\n\" % (cv_scores.mean(), cv_scores.std()))\n",
    "\n",
    "# reduced model evaluation\n",
    "print(f\"Reduced XGBoost train score: {train_score_reduced}\")\n",
    "print(f\"Reduced XGBoost test score: {test_score_reduced}\")\n",
    "\n",
    "cv_scores_reduced = cross_val_score(clf_reduced, X_train_reduced, y_train, cv=5)\n",
    "print(\"Reduced XGBoost Mean CV accuracy: %0.2f, SD: %0.2f\" % (cv_scores_reduced.mean(), cv_scores_reduced.std()))"
   ]
  },
  {
   "cell_type": "markdown",
   "metadata": {},
   "source": [
    "We achieve similar mean accuracy and variance with the reduced model. Unfortunately, the overfitting problem still stands. Perhaps further hyperparameter tuning could address this issue."
   ]
  },
  {
   "cell_type": "code",
   "execution_count": 37,
   "metadata": {},
   "outputs": [
    {
     "data": {
      "image/png": "[encoded data removed]",
      "text/plain": [
       "<Figure size 432x288 with 1 Axes>"
      ]
     },
     "metadata": {
      "needs_background": "light"
     },
     "output_type": "display_data"
    }
   ],
   "source": [
    "results = clf_reduced.evals_result()\n",
    "epochs = len(results['validation_0']['rmse'])\n",
    "x_axis = range(0, epochs)\n",
    "\n",
    "fig, ax = plt.subplots()\n",
    "ax.plot(x_axis, results['validation_0']['rmse'], label='Loss')\n",
    "ax.legend()\n",
    "plt.ylabel('Root MSE')\n",
    "plt.title('Reduced XGBoost Root MSE')\n",
    "plt.show()"
   ]
  },
  {
   "cell_type": "markdown",
   "metadata": {},
   "source": [
    "The loss function appears smooth throughout epochs, which indicates a stable training process."
   ]
  },
  {
   "cell_type": "code",
   "execution_count": 39,
   "metadata": {},
   "outputs": [
    {
     "data": {
      "image/png": "[encoded data removed]",
      "text/plain": [
       "<Figure size 720x720 with 1 Axes>"
      ]
     },
     "metadata": {
      "needs_background": "light"
     },
     "output_type": "display_data"
    }
   ],
   "source": [
    "y_pred = clf_reduced.predict(X_test_reduced)\n",
    "plt.figure(figsize=(10,10))\n",
    "plt.scatter(y_test, y_pred, c='crimson')\n",
    "plt.yscale('log')\n",
    "plt.xscale('log')\n",
    "\n",
    "p1 = max(max(y_pred), max(y_test))\n",
    "p2 = min(min(y_pred), min(y_test))\n",
    "plt.plot([p1, p2], [p1, p2], 'b-')\n",
    "plt.title('Reduced XGBoost Predictions vs. True Values')\n",
    "plt.show()"
   ]
  },
  {
   "cell_type": "markdown",
   "metadata": {},
   "source": [
    "With the exception of a few outliers, the reduced XGBoost model achieves fairly good accuracy on the test set."
   ]
  },
  {
   "cell_type": "markdown",
   "metadata": {},
   "source": [
    "## Conclusions\n",
    "While it may be exciting to implement a newer model like XGBoost, in this situation, the reduced Random Forest model slightly outperforms the other algorithm. With the evaluations of each model are extremely similar, it is favorable to opt for a simpler model with a lower dimensional parameter space. In our opinion, the reduced Random Forest model is the best choice for housing price prediction!"
   ]
  },
  {
   "cell_type": "code",
   "execution_count": null,
   "metadata": {},
   "outputs": [],
   "source": []
  }
 ],
 "metadata": {
  "kernelspec": {
   "display_name": "Python [conda env:base] *",
   "language": "python",
   "name": "conda-base-py"
  },
  "language_info": {
   "codemirror_mode": {
    "name": "ipython",
    "version": 3
   },
   "file_extension": ".py",
   "mimetype": "text/x-python",
   "name": "python",
   "nbconvert_exporter": "python",
   "pygments_lexer": "ipython3",
   "version": "3.9.21"
  }
 },
 "nbformat": 4,
 "nbformat_minor": 4
}
