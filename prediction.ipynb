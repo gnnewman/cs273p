{
 "cells": [
  {
   "cell_type": "markdown",
   "metadata": {},
   "source": [
    "# Home Price Prediction: DATA 273P Final Project\n",
    "### Data sourced from: https://www.kaggle.com/competitions/house-prices-advanced-regression-techniques/overview\n",
    "### Grace Newman, Kaitlyn Morenzone, Abigail Mori"
   ]
  },
  {
   "cell_type": "code",
   "execution_count": 53,
   "metadata": {},
   "outputs": [],
   "source": [
    "import pandas as pd\n",
    "import numpy as np\n",
    "import seaborn as sns\n",
    "import matplotlib.pyplot as plt\n",
    "from sklearn.model_selection import train_test_split"
   ]
  },
  {
   "cell_type": "markdown",
   "metadata": {},
   "source": [
    "## Data Ingestion and Preprocessing\n",
    "The 'test.csv' file has no predictor column, as Kaggle intends users to submit the predictions of their regression model on that test dataset blindly. Therefore, we will split the training dataset in order to measure accuracy within this notebook. We will submit the 'test.csv' predictions separately and report the results here."
   ]
  },
  {
   "cell_type": "code",
   "execution_count": 56,
   "metadata": {},
   "outputs": [],
   "source": [
    "## ingest data\n",
    "train_df = pd.read_csv('house-prices-advanced-regression-techniques/train.csv')\n",
    "test_df = pd.read_csv('house-prices-advanced-regression-techniques/test.csv')"
   ]
  },
  {
   "cell_type": "code",
   "execution_count": 58,
   "metadata": {},
   "outputs": [],
   "source": [
    "train_df.set_index('Id', inplace=True)\n",
    "test_df.set_index('Id', inplace=True)"
   ]
  },
  {
   "cell_type": "code",
   "execution_count": 60,
   "metadata": {},
   "outputs": [
    {
     "name": "stdout",
     "output_type": "stream",
     "text": [
      "(1460, 80)\n"
     ]
    }
   ],
   "source": [
    "print(train_df.shape)"
   ]
  },
  {
   "cell_type": "markdown",
   "metadata": {},
   "source": [
    "There is high dimensionality in this dataset, so we will drop some columns that we find least likely to be good predictors of home price."
   ]
  },
  {
   "cell_type": "code",
   "execution_count": 63,
   "metadata": {},
   "outputs": [],
   "source": [
    "# drop some non-predictive columns\n",
    "drop_cols = ['Street', 'Alley', 'LotShape', 'LandContour', 'LandSlope']\n",
    "train_df = train_df.drop(columns=drop_cols)\n",
    "test_df = test_df.drop(columns=drop_cols)"
   ]
  },
  {
   "cell_type": "markdown",
   "metadata": {},
   "source": [
    "Cateogorical columns are stored as 'Object' types. We need to encode these values to integers so that they can be used in regression."
   ]
  },
  {
   "cell_type": "code",
   "execution_count": 66,
   "metadata": {},
   "outputs": [],
   "source": [
    "# listing categorical columns\n",
    "categorical = []\n",
    "\n",
    "for col in train_df.columns:\n",
    "    if train_df[col].dtype == 'object':\n",
    "        categorical.append(col)\n",
    "\n",
    "# using pd.get_dummies to encode categorical columns, dropping originals\n",
    "train_data = pd.get_dummies(train_df, columns=categorical, drop_first=True)\n",
    "test_data = pd.get_dummies(test_df, columns=categorical, drop_first=True)"
   ]
  },
  {
   "cell_type": "markdown",
   "metadata": {},
   "source": [
    "We will drop columns that have null values present. This includes: 'LotFrontage', 'MasVnrArea', 'GarageYrBlt'"
   ]
  },
  {
   "cell_type": "code",
   "execution_count": 69,
   "metadata": {},
   "outputs": [],
   "source": [
    "# check null proportion of each column\n",
    "null_percentages = train_data.isnull().sum() / len(train_data) * 100\n",
    "drops = null_percentages[null_percentages > 0]\n",
    "drop_cols = drops.index\n",
    "\n",
    "# drop columns with nulls\n",
    "train_data = train_data.drop(columns=drop_cols)\n",
    "test_data = test_data.drop(columns=drop_cols)"
   ]
  },
  {
   "cell_type": "markdown",
   "metadata": {},
   "source": [
    "Here, we will split the training data into training and testing sets. We will preserve the 'test.csv' data separately."
   ]
  },
  {
   "cell_type": "code",
   "execution_count": 72,
   "metadata": {},
   "outputs": [],
   "source": [
    "# splitting data into 80-20 train-test split\n",
    "train, test = train_test_split(train_data, test_size=0.2)\n",
    "\n",
    "X_train = train.loc[:, train.columns != 'SalePrice']\n",
    "y_train = train['SalePrice']\n",
    "\n",
    "X_test = test.loc[:, test.columns != 'SalePrice']\n",
    "y_test = test['SalePrice']\n",
    "\n",
    "# preserving test.csv data under a different name\n",
    "X_test_kaggle = test_data.loc[:, test_data.columns != 'SalePrice']"
   ]
  },
  {
   "cell_type": "markdown",
   "metadata": {},
   "source": [
    "Let's look at the distribution of our target variable, Sale Price, to determine which models we might try first."
   ]
  },
  {
   "cell_type": "code",
   "execution_count": 75,
   "metadata": {},
   "outputs": [
    {
     "name": "stderr",
     "output_type": "stream",
     "text": [
      "/Users/gracenewman/opt/anaconda3/lib/python3.9/site-packages/seaborn/distributions.py:2619: FutureWarning: `distplot` is a deprecated function and will be removed in a future version. Please adapt your code to use either `displot` (a figure-level function with similar flexibility) or `histplot` (an axes-level function for histograms).\n",
      "  warnings.warn(msg, FutureWarning)\n"
     ]
    },
    {
     "data": {
      "text/plain": [
       "<AxesSubplot:xlabel='SalePrice', ylabel='Density'>"
      ]
     },
     "execution_count": 75,
     "metadata": {},
     "output_type": "execute_result"
    },
    {
     "data": {
      "image/png": "[encoded data removed]",
      "text/plain": [
       "<Figure size 648x576 with 1 Axes>"
      ]
     },
     "metadata": {
      "needs_background": "light"
     },
     "output_type": "display_data"
    }
   ],
   "source": [
    "plt.figure(figsize=(9, 8))\n",
    "sns.distplot(train_data['SalePrice'], color='g', bins=100, hist_kws={'alpha': 0.4})"
   ]
  },
  {
   "cell_type": "markdown",
   "metadata": {},
   "source": [
    "Given the nonlinear distribution of the target variable, Sale Price, we might try a non-parametric model first."
   ]
  },
  {
   "cell_type": "markdown",
   "metadata": {},
   "source": [
    "## K-Nearest Neighbor Model"
   ]
  },
  {
   "cell_type": "code",
   "execution_count": null,
   "metadata": {},
   "outputs": [],
   "source": []
  }
 ],
 "metadata": {
  "kernelspec": {
   "display_name": "Python [conda env:base] *",
   "language": "python",
   "name": "conda-base-py"
  },
  "language_info": {
   "codemirror_mode": {
    "name": "ipython",
    "version": 3
   },
   "file_extension": ".py",
   "mimetype": "text/x-python",
   "name": "python",
   "nbconvert_exporter": "python",
   "pygments_lexer": "ipython3",
   "version": "3.9.21"
  }
 },
 "nbformat": 4,
 "nbformat_minor": 4
}
